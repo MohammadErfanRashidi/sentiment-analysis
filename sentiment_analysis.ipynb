{
  "nbformat": 4,
  "nbformat_minor": 0,
  "metadata": {
    "colab": {
      "provenance": [],
      "authorship_tag": "ABX9TyNok18MNzcadCMlRDMda6CL",
      "include_colab_link": true
    },
    "kernelspec": {
      "name": "python3",
      "display_name": "Python 3"
    },
    "language_info": {
      "name": "python"
    }
  },
  "cells": [
    {
      "cell_type": "markdown",
      "metadata": {
        "id": "view-in-github",
        "colab_type": "text"
      },
      "source": [
        "<a href=\"https://colab.research.google.com/github/MohammadErfanRashidi/sentiment-analysis/blob/main/sentiment_analysis.ipynb\" target=\"_parent\"><img src=\"https://colab.research.google.com/assets/colab-badge.svg\" alt=\"Open In Colab\"/></a>"
      ]
    },
    {
      "cell_type": "code",
      "source": [
        "!pip install numpy pandas scikit-learn matplotlib seaborn\n",
        "!pip install nltk\n",
        "!pip install transformers\n"
      ],
      "metadata": {
        "id": "vAEpxedgpOQp"
      },
      "execution_count": null,
      "outputs": []
    },
    {
      "cell_type": "code",
      "source": [
        "import pandas as pd\n",
        "\n",
        "# Load dataset (example with CSV)\n",
        "url = \"YourDataSet.csv\"  # Replace with the actual URL or path to your dataset\n",
        "df = pd.read_csv(url, encoding='latin-1', header=None, names=['sentiment', 'id', 'date', 'query', 'user', 'text'])\n",
        "\n",
        "# Preview the dataset\n",
        "df.head()\n"
      ],
      "metadata": {
        "id": "EjKHT83bpS6o"
      },
      "execution_count": null,
      "outputs": []
    },
    {
      "cell_type": "code",
      "source": [
        "import nltk\n",
        "from nltk.corpus import stopwords\n",
        "from nltk.tokenize import word_tokenize\n",
        "from sklearn.model_selection import train_test_split\n",
        "from sklearn.feature_extraction.text import TfidfVectorizer\n",
        "\n",
        "nltk.download('punkt')\n",
        "nltk.download('stopwords')\n",
        "\n",
        "def preprocess_text(text):\n",
        "    tokens = word_tokenize(text.lower())\n",
        "    tokens = [word for word in tokens if word.isalpha()]\n",
        "    stop_words = set(stopwords.words('english'))\n",
        "    tokens = [word for word in tokens if word not in stop_words]\n",
        "    return ' '.join(tokens)\n",
        "\n",
        "# Apply preprocessing\n",
        "df['processed_text'] = df['text'].apply(preprocess_text)\n",
        "\n",
        "# Split data into training and test sets\n",
        "X_train, X_test, y_train, y_test = train_test_split(df['processed_text'], df['sentiment'], test_size=0.3, random_state=42)\n"
      ],
      "metadata": {
        "id": "tHIDlTfcpmjw"
      },
      "execution_count": null,
      "outputs": []
    },
    {
      "cell_type": "code",
      "source": [
        "vectorizer = TfidfVectorizer()\n",
        "X_train_vectorized = vectorizer.fit_transform(X_train)\n",
        "X_test_vectorized = vectorizer.transform(X_test)\n"
      ],
      "metadata": {
        "id": "x_lhaE5CpvXh"
      },
      "execution_count": 7,
      "outputs": []
    },
    {
      "cell_type": "code",
      "source": [
        "from sklearn.naive_bayes import MultinomialNB\n",
        "from sklearn.metrics import accuracy_score, classification_report\n",
        "\n",
        "# Train a Naive Bayes classifier\n",
        "classifier = MultinomialNB()\n",
        "classifier.fit(X_train_vectorized, y_train)\n",
        "\n",
        "# Make predictions\n",
        "y_pred = classifier.predict(X_test_vectorized)\n",
        "\n",
        "# Evaluate the model\n",
        "accuracy = accuracy_score(y_test, y_pred)\n",
        "report = classification_report(y_test, y_pred)\n",
        "\n",
        "print(\"Accuracy:\", accuracy)\n",
        "print(\"Classification Report:\\n\", report)\n"
      ],
      "metadata": {
        "id": "rCEkyyunpy80"
      },
      "execution_count": null,
      "outputs": []
    },
    {
      "source": [
        "from transformers import pipeline\n",
        "\n",
        "# Load pre-trained sentiment-analysis model\n",
        "sentiment_pipeline = pipeline(\"sentiment-analysis\")\n",
        "\n",
        "def classify_sentences(input_file, positive_output, negative_output, neutral_output):\n",
        "    with open(input_file, 'r') as infile, \\\n",
        "         open(positive_output, 'w') as pos_file, \\\n",
        "         open(negative_output, 'w') as neg_file, \\\n",
        "         open(neutral_output, 'w') as neu_file:\n",
        "\n",
        "        for line in infile:\n",
        "            result = sentiment_pipeline(line.strip())\n",
        "            label = result[0]['label']\n",
        "            if label == 'POSITIVE':\n",
        "                pos_file.write(line)\n",
        "            elif label == 'NEGATIVE':\n",
        "                neg_file.write(line)\n",
        "            else:\n",
        "                neu_file.write(line)\n",
        "\n",
        "# Example usage:\n",
        "input_file = 'TestFile.txt'\n",
        "positive_output = 'positive_sentences.txt'\n",
        "negative_output = 'negative_sentences.txt'\n",
        "neutral_output = 'neutral_sentences.txt'\n",
        "\n",
        "classify_sentences(input_file, positive_output, negative_output, neutral_output)"
      ],
      "cell_type": "code",
      "metadata": {
        "id": "uRX4C5iDrSgJ"
      },
      "execution_count": null,
      "outputs": []
    }
  ]
}